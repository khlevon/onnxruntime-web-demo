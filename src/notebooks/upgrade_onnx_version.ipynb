{
 "cells": [
  {
   "cell_type": "code",
   "execution_count": null,
   "metadata": {},
   "outputs": [],
   "source": [
    "!pip install onnx"
   ]
  },
  {
   "cell_type": "code",
   "execution_count": 3,
   "metadata": {},
   "outputs": [],
   "source": [
    "import onnx\n",
    "from onnx import version_converter, helper as h\n"
   ]
  },
  {
   "cell_type": "code",
   "execution_count": 10,
   "metadata": {},
   "outputs": [
    {
     "name": "stdout",
     "output_type": "stream",
     "text": [
      "Original opset_version: 9\n",
      "Target opset_version: 17\n",
      "Start conversion ...\n",
      "Fixing Resize nodes...\n",
      "Save new model\n"
     ]
    }
   ],
   "source": [
    "\n",
    "# Preprocessing: load the model to be converted.\n",
    "model_path = \"../artifacts/mosaic_original.onnx\"\n",
    "original_model = onnx.load(model_path)\n",
    "\n",
    "original_model_opset_version = original_model.opset_import[0].version\n",
    "target_model_opset_version = 17\n",
    "\n",
    "print(f\"Original opset_version: {original_model_opset_version}\")\n",
    "print(f\"Target opset_version: {target_model_opset_version}\")\n",
    "\n",
    "print(\"Start conversion ...\")\n",
    "\n",
    "\n",
    "# A full list of supported adapters can be found here:\n",
    "# https://github.com/onnx/onnx/blob/main/onnx/version_converter.py#L21\n",
    "# Apply the version conversion on the original model\n",
    "converted_model = version_converter.convert_version(original_model, target_model_opset_version)\n",
    "\n",
    "\n",
    "model_graph = converted_model.graph\n",
    "\n",
    "\n",
    "print(\"Fixing Resize nodes...\")\n",
    "\n",
    "new_nodes = []\n",
    "for i, node in enumerate(model_graph.node):\n",
    "    if node.op_type == \"Resize\":\n",
    "        new_resize = onnx.helper.make_node(\n",
    "            'Resize',\n",
    "            inputs=node.input,\n",
    "            outputs=node.output,\n",
    "            name=node.name,\n",
    "            mode='linear'\n",
    "        )\n",
    "        # Update node\n",
    "        new_nodes += [new_resize]\n",
    "    else:\n",
    "        new_nodes += [node]\n",
    "\n",
    "new_graph = h.make_graph(\n",
    "    new_nodes,\n",
    "    model_graph.name,\n",
    "    model_graph.input,\n",
    "    model_graph.output,\n",
    "    initializer=model_graph.initializer,  # The initializer holds all non-constant weights.\n",
    ")\n",
    "\n",
    "new_model = h.make_model(new_graph, producer_name=\"onnx-fix-nodes\")\n",
    "new_model.opset_import[0].version = converted_model.opset_import[0].version\n",
    "\n",
    "print(\"Save new model\")\n",
    "onnx.save(new_model, f\"../artifacts/mosaic.onnx\")\n",
    "\n"
   ]
  }
 ],
 "metadata": {
  "kernelspec": {
   "display_name": "Python 3",
   "language": "python",
   "name": "python3"
  },
  "language_info": {
   "codemirror_mode": {
    "name": "ipython",
    "version": 3
   },
   "file_extension": ".py",
   "mimetype": "text/x-python",
   "name": "python",
   "nbconvert_exporter": "python",
   "pygments_lexer": "ipython3",
   "version": "3.10.3 (main, Apr 13 2022, 14:21:47) [Clang 13.1.6 (clang-1316.0.21.2.3)]"
  },
  "orig_nbformat": 4,
  "vscode": {
   "interpreter": {
    "hash": "6db5c29e1c387a99b0107a35641f7ab0e26b7a9e4d0444cec78279fcaf56a112"
   }
  }
 },
 "nbformat": 4,
 "nbformat_minor": 2
}
